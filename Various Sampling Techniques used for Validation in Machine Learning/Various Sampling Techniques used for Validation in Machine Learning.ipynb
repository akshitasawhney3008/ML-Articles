{
 "cells": [
  {
   "cell_type": "markdown",
   "metadata": {},
   "source": [
    "<p style=\"background-color:purple;font-size:20px;color:white\" size=\"35\"><b> \n",
    "Table of Content  </b> </p>\n",
    "\n",
    "1. **[Data Introduction(Meta data)](#meta)**\n",
    "2. **[Data Preparation](#prep)**\n",
    "3. **[Splitting of data after it has been prepared](#intro)**\n",
    "    - 3.1 - **[Train-Test Split of the data](#split)**\n",
    "    - 3.2 - **[Why do we need to split the data?](#fit)**\n",
    "4. **[What is the need of the Validation Set?](#vs)**\n",
    "5. **[Cross Validation](#cv)**\n",
    "    - 5.1 - **[Benefits of Cross Validation](#benefits)**\n",
    "    - 5.2 - **[Sampling Techniques of Cross Validation](#sampling)**\n",
    "        - 5.2.1 - **[Hold-out](#ho)**\n",
    "        - 5.2.2 - **[K-fold Cross Validation](#kfold)**\n",
    "        - 5.2.3 - **[Stratified K-fold Cross Validation](#skfold)**\n",
    "        - 5.2.4 - **[Leave-P-out Cross Validation](#leave)**\n",
    "4. **[Some more sampling techniques of doing cross validations](#extra)**"
   ]
  },
  {
   "cell_type": "markdown",
   "metadata": {},
   "source": [
    "<a id=\"meta\"></a>\n",
    "## 1. Data Introduction"
   ]
  },
  {
   "cell_type": "markdown",
   "metadata": {},
   "source": [
    "<body>\n",
    "<h2 style=\"background-color:#0067a7; color:#FFFFFF\"align=\"center\">Admissions Prediction Dataset</h2>\n",
    "</body>\n",
    "\n",
    "This dataset is created for prediction of Graduate Admissions in a masters program from an Indian perspective.\n",
    "\n",
    "It contains several parameters which are considered important during the application for Masters Programs.\n",
    "The parameters included are :\n",
    "\n",
    "    GRE Scores ( out of 340 )\n",
    "    TOEFL Scores ( out of 120 )\n",
    "    University Rating ( out of 5 )\n",
    "    Statement of Purpose and Letter of Recommendation Strength ( out of 5 )\n",
    "    Undergraduate GPA ( out of 10 )\n",
    "    Research Experience ( either 0 or 1 )\n",
    "    Chance of Admit ( ranging from 0 to 1 )\n",
    "    Acknowledgements\n",
    "This dataset is inspired by the UCLA Graduate Dataset. The test scores and GPA are in the older format.\n",
    "The dataset is owned by Mohan S Acharya.\n",
    "\n",
    "\n",
    "This dataset was built with the purpose of helping students in shortlisting universities with their profiles. The predicted output gives them a fair idea about their chances for a particular university."
   ]
  },
  {
   "cell_type": "code",
   "execution_count": 75,
   "metadata": {},
   "outputs": [],
   "source": [
    "# Import Libraries\n",
    "\n",
    "import pandas as pd \n",
    "import numpy as np\n",
    "import matplotlib.pyplot as plt\n",
    "import seaborn as sns\n",
    "\n",
    "# to suppress warnings \n",
    "from warnings import filterwarnings\n",
    "filterwarnings('ignore')\n",
    "\n",
    "from sklearn.model_selection import train_test_split\n",
    "from sklearn.preprocessing import StandardScaler\n",
    "\n",
    "# import functions to perform cross validation\n",
    "from sklearn.model_selection import LeaveOneOut, LeavePOut\n",
    "from sklearn.model_selection import KFold, StratifiedKFold, ShuffleSplit, StratifiedShuffleSplit, GroupKFold, LeaveOneGroupOut, GroupShuffleSplit, TimeSeriesSplit\n",
    "\n",
    "from sklearn.ensemble import RandomForestClassifier"
   ]
  },
  {
   "cell_type": "markdown",
   "metadata": {},
   "source": [
    "<a id=\"prep\"></a>\n",
    "## 2. Data Preparation"
   ]
  },
  {
   "cell_type": "code",
   "execution_count": 4,
   "metadata": {},
   "outputs": [
    {
     "data": {
      "text/html": [
       "<div>\n",
       "<style scoped>\n",
       "    .dataframe tbody tr th:only-of-type {\n",
       "        vertical-align: middle;\n",
       "    }\n",
       "\n",
       "    .dataframe tbody tr th {\n",
       "        vertical-align: top;\n",
       "    }\n",
       "\n",
       "    .dataframe thead th {\n",
       "        text-align: right;\n",
       "    }\n",
       "</style>\n",
       "<table border=\"1\" class=\"dataframe\">\n",
       "  <thead>\n",
       "    <tr style=\"text-align: right;\">\n",
       "      <th></th>\n",
       "      <th>Serial No.</th>\n",
       "      <th>GRE Score</th>\n",
       "      <th>TOEFL Score</th>\n",
       "      <th>University Rating</th>\n",
       "      <th>SOP</th>\n",
       "      <th>LOR</th>\n",
       "      <th>CGPA</th>\n",
       "      <th>Research</th>\n",
       "      <th>Chance of Admit</th>\n",
       "    </tr>\n",
       "  </thead>\n",
       "  <tbody>\n",
       "    <tr>\n",
       "      <td>0</td>\n",
       "      <td>1</td>\n",
       "      <td>337</td>\n",
       "      <td>118</td>\n",
       "      <td>4</td>\n",
       "      <td>4.5</td>\n",
       "      <td>4.5</td>\n",
       "      <td>9.65</td>\n",
       "      <td>1</td>\n",
       "      <td>1</td>\n",
       "    </tr>\n",
       "    <tr>\n",
       "      <td>1</td>\n",
       "      <td>2</td>\n",
       "      <td>324</td>\n",
       "      <td>107</td>\n",
       "      <td>4</td>\n",
       "      <td>4.0</td>\n",
       "      <td>4.5</td>\n",
       "      <td>8.87</td>\n",
       "      <td>1</td>\n",
       "      <td>1</td>\n",
       "    </tr>\n",
       "    <tr>\n",
       "      <td>2</td>\n",
       "      <td>3</td>\n",
       "      <td>316</td>\n",
       "      <td>104</td>\n",
       "      <td>3</td>\n",
       "      <td>3.0</td>\n",
       "      <td>3.5</td>\n",
       "      <td>8.00</td>\n",
       "      <td>1</td>\n",
       "      <td>0</td>\n",
       "    </tr>\n",
       "    <tr>\n",
       "      <td>3</td>\n",
       "      <td>4</td>\n",
       "      <td>322</td>\n",
       "      <td>110</td>\n",
       "      <td>3</td>\n",
       "      <td>3.5</td>\n",
       "      <td>2.5</td>\n",
       "      <td>8.67</td>\n",
       "      <td>1</td>\n",
       "      <td>1</td>\n",
       "    </tr>\n",
       "    <tr>\n",
       "      <td>4</td>\n",
       "      <td>5</td>\n",
       "      <td>314</td>\n",
       "      <td>103</td>\n",
       "      <td>2</td>\n",
       "      <td>2.0</td>\n",
       "      <td>3.0</td>\n",
       "      <td>8.21</td>\n",
       "      <td>0</td>\n",
       "      <td>0</td>\n",
       "    </tr>\n",
       "  </tbody>\n",
       "</table>\n",
       "</div>"
      ],
      "text/plain": [
       "   Serial No.  GRE Score  TOEFL Score  University Rating  SOP  LOR  CGPA  \\\n",
       "0           1        337          118                  4  4.5  4.5  9.65   \n",
       "1           2        324          107                  4  4.0  4.5  8.87   \n",
       "2           3        316          104                  3  3.0  3.5  8.00   \n",
       "3           4        322          110                  3  3.5  2.5  8.67   \n",
       "4           5        314          103                  2  2.0  3.0  8.21   \n",
       "\n",
       "   Research  Chance of Admit  \n",
       "0         1                1  \n",
       "1         1                1  \n",
       "2         1                0  \n",
       "3         1                1  \n",
       "4         0                0  "
      ]
     },
     "execution_count": 4,
     "metadata": {},
     "output_type": "execute_result"
    }
   ],
   "source": [
    "df_admissions = pd.read_csv('Admission_predict.csv')\n",
    "df_admissions.head()"
   ]
  },
  {
   "cell_type": "code",
   "execution_count": 5,
   "metadata": {},
   "outputs": [
    {
     "data": {
      "text/plain": [
       "(400, 9)"
      ]
     },
     "execution_count": 5,
     "metadata": {},
     "output_type": "execute_result"
    }
   ],
   "source": [
    "df_admissions.shape"
   ]
  },
  {
   "cell_type": "code",
   "execution_count": 6,
   "metadata": {},
   "outputs": [
    {
     "name": "stdout",
     "output_type": "stream",
     "text": [
      "<class 'pandas.core.frame.DataFrame'>\n",
      "RangeIndex: 400 entries, 0 to 399\n",
      "Data columns (total 9 columns):\n",
      "Serial No.           400 non-null int64\n",
      "GRE Score            400 non-null int64\n",
      "TOEFL Score          400 non-null int64\n",
      "University Rating    400 non-null int64\n",
      "SOP                  400 non-null float64\n",
      "LOR                  400 non-null float64\n",
      "CGPA                 400 non-null float64\n",
      "Research             400 non-null int64\n",
      "Chance of Admit      400 non-null int64\n",
      "dtypes: float64(3), int64(6)\n",
      "memory usage: 28.2 KB\n"
     ]
    }
   ],
   "source": [
    "df_admissions.info()"
   ]
  },
  {
   "cell_type": "markdown",
   "metadata": {},
   "source": [
    "According to the data definition, `Research` is a categorical variable, which is wrongly interpreted as 'int64', so we will convert these variables data type to 'object'."
   ]
  },
  {
   "cell_type": "code",
   "execution_count": 7,
   "metadata": {},
   "outputs": [],
   "source": [
    "df_admissions['Research'] = df_admissions['Research'].astype(object)"
   ]
  },
  {
   "cell_type": "code",
   "execution_count": 8,
   "metadata": {},
   "outputs": [],
   "source": [
    "df_admissions = df_admissions.drop('Serial No.', axis = 1)\n",
    "#We remove the column that has unique values"
   ]
  },
  {
   "cell_type": "code",
   "execution_count": 9,
   "metadata": {},
   "outputs": [
    {
     "data": {
      "text/plain": [
       "GRE Score            0\n",
       "TOEFL Score          0\n",
       "University Rating    0\n",
       "SOP                  0\n",
       "LOR                  0\n",
       "CGPA                 0\n",
       "Research             0\n",
       "Chance of Admit      0\n",
       "dtype: int64"
      ]
     },
     "execution_count": 9,
     "metadata": {},
     "output_type": "execute_result"
    }
   ],
   "source": [
    "df_admissions.isnull().sum()"
   ]
  },
  {
   "cell_type": "markdown",
   "metadata": {},
   "source": [
    "No null values are present"
   ]
  },
  {
   "cell_type": "code",
   "execution_count": 10,
   "metadata": {},
   "outputs": [
    {
     "data": {
      "text/plain": [
       "GRE Score           -0.062893\n",
       "TOEFL Score          0.057216\n",
       "University Rating    0.171260\n",
       "SOP                 -0.275761\n",
       "LOR                 -0.106991\n",
       "CGPA                -0.065991\n",
       "Research            -0.191582\n",
       "Chance of Admit      0.201765\n",
       "dtype: float64"
      ]
     },
     "execution_count": 10,
     "metadata": {},
     "output_type": "execute_result"
    }
   ],
   "source": [
    "df_admissions.skew()"
   ]
  },
  {
   "cell_type": "markdown",
   "metadata": {},
   "source": [
    "Mostly all the columns are nearly normal"
   ]
  },
  {
   "cell_type": "code",
   "execution_count": 11,
   "metadata": {},
   "outputs": [],
   "source": [
    "#taking out the target from the data\n",
    "target = df_admissions['Chance of Admit']\n",
    "df_feature = df_admissions.drop('Chance of Admit', axis = 1)"
   ]
  },
  {
   "cell_type": "code",
   "execution_count": 12,
   "metadata": {},
   "outputs": [
    {
     "data": {
      "text/plain": [
       "Index(['Research'], dtype='object')"
      ]
     },
     "execution_count": 12,
     "metadata": {},
     "output_type": "execute_result"
    }
   ],
   "source": [
    "#select all the categorical variables\n",
    "cat = df_feature.select_dtypes(include = [np.object])\n",
    "cat.columns"
   ]
  },
  {
   "cell_type": "code",
   "execution_count": 13,
   "metadata": {},
   "outputs": [],
   "source": [
    "#convert categorical data to dummies\n",
    "df_dummies = pd.get_dummies(data = cat, drop_first = True)"
   ]
  },
  {
   "cell_type": "code",
   "execution_count": 14,
   "metadata": {},
   "outputs": [
    {
     "data": {
      "text/html": [
       "<div>\n",
       "<style scoped>\n",
       "    .dataframe tbody tr th:only-of-type {\n",
       "        vertical-align: middle;\n",
       "    }\n",
       "\n",
       "    .dataframe tbody tr th {\n",
       "        vertical-align: top;\n",
       "    }\n",
       "\n",
       "    .dataframe thead th {\n",
       "        text-align: right;\n",
       "    }\n",
       "</style>\n",
       "<table border=\"1\" class=\"dataframe\">\n",
       "  <thead>\n",
       "    <tr style=\"text-align: right;\">\n",
       "      <th></th>\n",
       "      <th>Research_1</th>\n",
       "    </tr>\n",
       "  </thead>\n",
       "  <tbody>\n",
       "    <tr>\n",
       "      <td>0</td>\n",
       "      <td>1</td>\n",
       "    </tr>\n",
       "    <tr>\n",
       "      <td>1</td>\n",
       "      <td>1</td>\n",
       "    </tr>\n",
       "    <tr>\n",
       "      <td>2</td>\n",
       "      <td>1</td>\n",
       "    </tr>\n",
       "    <tr>\n",
       "      <td>3</td>\n",
       "      <td>1</td>\n",
       "    </tr>\n",
       "    <tr>\n",
       "      <td>4</td>\n",
       "      <td>0</td>\n",
       "    </tr>\n",
       "  </tbody>\n",
       "</table>\n",
       "</div>"
      ],
      "text/plain": [
       "   Research_1\n",
       "0           1\n",
       "1           1\n",
       "2           1\n",
       "3           1\n",
       "4           0"
      ]
     },
     "execution_count": 14,
     "metadata": {},
     "output_type": "execute_result"
    }
   ],
   "source": [
    "df_dummies.head()"
   ]
  },
  {
   "cell_type": "code",
   "execution_count": 15,
   "metadata": {},
   "outputs": [],
   "source": [
    "# Scaling the numerical data\n",
    "df_num = df_feature.select_dtypes(include = [np.number])\n",
    "X_scaler = StandardScaler()\n",
    "num_scaled = X_scaler.fit_transform(df_num)\n",
    "df_num_scaled = pd.DataFrame(num_scaled, columns = df_num.columns)"
   ]
  },
  {
   "cell_type": "code",
   "execution_count": 16,
   "metadata": {},
   "outputs": [
    {
     "data": {
      "text/html": [
       "<div>\n",
       "<style scoped>\n",
       "    .dataframe tbody tr th:only-of-type {\n",
       "        vertical-align: middle;\n",
       "    }\n",
       "\n",
       "    .dataframe tbody tr th {\n",
       "        vertical-align: top;\n",
       "    }\n",
       "\n",
       "    .dataframe thead th {\n",
       "        text-align: right;\n",
       "    }\n",
       "</style>\n",
       "<table border=\"1\" class=\"dataframe\">\n",
       "  <thead>\n",
       "    <tr style=\"text-align: right;\">\n",
       "      <th></th>\n",
       "      <th>GRE Score</th>\n",
       "      <th>TOEFL Score</th>\n",
       "      <th>University Rating</th>\n",
       "      <th>SOP</th>\n",
       "      <th>LOR</th>\n",
       "      <th>CGPA</th>\n",
       "      <th>Research_1</th>\n",
       "    </tr>\n",
       "  </thead>\n",
       "  <tbody>\n",
       "    <tr>\n",
       "      <td>0</td>\n",
       "      <td>1.762107</td>\n",
       "      <td>1.746971</td>\n",
       "      <td>0.798829</td>\n",
       "      <td>1.093864</td>\n",
       "      <td>1.167321</td>\n",
       "      <td>1.764818</td>\n",
       "      <td>1</td>\n",
       "    </tr>\n",
       "    <tr>\n",
       "      <td>1</td>\n",
       "      <td>0.627656</td>\n",
       "      <td>-0.067635</td>\n",
       "      <td>0.798829</td>\n",
       "      <td>0.596653</td>\n",
       "      <td>1.167321</td>\n",
       "      <td>0.455151</td>\n",
       "      <td>1</td>\n",
       "    </tr>\n",
       "    <tr>\n",
       "      <td>2</td>\n",
       "      <td>-0.070467</td>\n",
       "      <td>-0.562528</td>\n",
       "      <td>-0.076600</td>\n",
       "      <td>-0.397769</td>\n",
       "      <td>0.052933</td>\n",
       "      <td>-1.005631</td>\n",
       "      <td>1</td>\n",
       "    </tr>\n",
       "    <tr>\n",
       "      <td>3</td>\n",
       "      <td>0.453126</td>\n",
       "      <td>0.427257</td>\n",
       "      <td>-0.076600</td>\n",
       "      <td>0.099442</td>\n",
       "      <td>-1.061454</td>\n",
       "      <td>0.119339</td>\n",
       "      <td>1</td>\n",
       "    </tr>\n",
       "    <tr>\n",
       "      <td>4</td>\n",
       "      <td>-0.244998</td>\n",
       "      <td>-0.727492</td>\n",
       "      <td>-0.952029</td>\n",
       "      <td>-1.392191</td>\n",
       "      <td>-0.504260</td>\n",
       "      <td>-0.653029</td>\n",
       "      <td>0</td>\n",
       "    </tr>\n",
       "  </tbody>\n",
       "</table>\n",
       "</div>"
      ],
      "text/plain": [
       "   GRE Score  TOEFL Score  University Rating       SOP       LOR      CGPA  \\\n",
       "0   1.762107     1.746971           0.798829  1.093864  1.167321  1.764818   \n",
       "1   0.627656    -0.067635           0.798829  0.596653  1.167321  0.455151   \n",
       "2  -0.070467    -0.562528          -0.076600 -0.397769  0.052933 -1.005631   \n",
       "3   0.453126     0.427257          -0.076600  0.099442 -1.061454  0.119339   \n",
       "4  -0.244998    -0.727492          -0.952029 -1.392191 -0.504260 -0.653029   \n",
       "\n",
       "   Research_1  \n",
       "0           1  \n",
       "1           1  \n",
       "2           1  \n",
       "3           1  \n",
       "4           0  "
      ]
     },
     "execution_count": 16,
     "metadata": {},
     "output_type": "execute_result"
    }
   ],
   "source": [
    "#concatenating numerical and categorical data\n",
    "X = pd.concat([df_num_scaled, df_dummies], axis = 1)\n",
    "X.head()"
   ]
  },
  {
   "cell_type": "markdown",
   "metadata": {},
   "source": [
    "<a id=\"intro\"></a>\n",
    "## 3. Splitting of data after it has been prepared"
   ]
  },
  {
   "cell_type": "markdown",
   "metadata": {},
   "source": [
    "We generally divide our datasets into 3 parts before really applying any model to it.\n",
    "The 3 parts of the datasets are called(#naming can vary):\n",
    "\n",
    "        Training set\n",
    "        Validation set\n",
    "        Test set\n",
    "        \n",
    "**Training set**: That portion of the data that we provide to the model to do all the learning of various patterns and give us that hidden magical mapping function.\n",
    "\n",
    "**Validation set**: Now this is like a hidden part which plays a very important role. It is that part of the training data that helps in evaluating the model while tuning its parameter making the model generalized.\n",
    "\n",
    "**Test set**: This part of the data is never seen by the model, it is held out to check the final unbiased performance of the model.\n",
    "\n",
    "In this article we will majorly focus on the Validation set of the data.\n"
   ]
  },
  {
   "cell_type": "markdown",
   "metadata": {},
   "source": [
    "<a id=\"split\"></a>\n",
    "## 3.1 Train-Test Split"
   ]
  },
  {
   "cell_type": "markdown",
   "metadata": {},
   "source": [
    "Before applying various Sampling techniques to the validation set , let us split the dataset in train and test set."
   ]
  },
  {
   "cell_type": "code",
   "execution_count": 17,
   "metadata": {},
   "outputs": [
    {
     "name": "stdout",
     "output_type": "stream",
     "text": [
      "X_train (320, 7)\n",
      "y_train (320,)\n",
      "X_test (80, 7)\n",
      "y_test (80,)\n"
     ]
    }
   ],
   "source": [
    "X_train, X_test, y_train, y_test = train_test_split(X, target, random_state = 10, test_size = 0.2)\n",
    "print('X_train', X_train.shape)\n",
    "print('y_train', y_train.shape)\n",
    "\n",
    "# print dimension of test set\n",
    "print('X_test', X_test.shape)\n",
    "print('y_test', y_test.shape)"
   ]
  },
  {
   "cell_type": "markdown",
   "metadata": {},
   "source": [
    "<a id=\"fit\"></a>\n",
    "## 3.2 Why do we need to split the data?"
   ]
  },
  {
   "cell_type": "markdown",
   "metadata": {},
   "source": [
    "#### To prevent Overfitting and Underfitting"
   ]
  },
  {
   "attachments": {
    "overfitting.png": {
     "image/png": "[encoded data removed]"
    }
   },
   "cell_type": "markdown",
   "metadata": {},
   "source": [
    "**Overfitting**: The process in which the model adapts very accurately to the given data,even in turn learning the patterns that are not meant to be learnt(i.e the patterns due to noise). This leads to inefficiany in predicting data that is even slightly different compared to the train data.\n",
    "\n",
    "As such, the model performs very well for the training data, but stumbles comparatively with new data. The patterns developed from the training data do not generalise well to new unseen data.\n",
    "\n",
    "To identify if there is overfitting in you data you need to see the difference in the train prediction error and the test prediction error. If the differnce is too high such that the train error is too low compared to test error , we call that model to be overfit on the train data(as seen below in the image)\n",
    "![overfitting.png](attachment:overfitting.png)\n",
    "source: <https://hackernoon.com/hn-images/1*xWfbNW3arf39wxk4ZkI2Mw.png>"
   ]
  },
  {
   "attachments": {
    "underfit.png": {
     "image/png": "[encoded data removed]"
    }
   },
   "cell_type": "markdown",
   "metadata": {},
   "source": [
    "**Underfitting:** In this process the model adapts loosely to the given data which leads to in effeciency in even giving prediction on the same data itself.\n",
    "\n",
    "Such a model would perform well neither on the training data nor any new data.For example imagine fitting a linear regression model to non-linear data.\n",
    "\n",
    "To identify if there is underfitting in your data you will observe that both the train error and test error are quite high .We call that model to be underfit\n",
    "\n",
    "So to get a model that is not underfit and not overfit we have to hit a sweet spot(as seen below in the image)\n",
    "![underfit.png](attachment:underfit.png)\n",
    "\n",
    "source<https://cdn.analyticsvidhya.com/wp-content/uploads/2020/02/Screenshot-2020-02-06-at-11.09.13.png>"
   ]
  },
  {
   "attachments": {
    "overfit%20and%20underfit.png": {
     "image/png": "[encoded data removed]"
    }
   },
   "cell_type": "markdown",
   "metadata": {},
   "source": [
    "**In the below image we can observe after fitting the best fit line on the data we can say whether the mdoel is overfit , underfit or just the correct fit**![overfit%20and%20underfit.png](attachment:overfit%20and%20underfit.png)\n",
    "\n",
    "\n",
    "source: https://medium.com/greyatom/what-is-underfitting-and-overfitting-in-machine-learning-and-how-to-deal-with-it-6803a989c76\n",
    "\n"
   ]
  },
  {
   "cell_type": "markdown",
   "metadata": {},
   "source": [
    "<a id=\"vs\"></a>\n",
    "## 4. What is the need of the Validation Set?"
   ]
  },
  {
   "cell_type": "markdown",
   "metadata": {},
   "source": [
    "**Validation:**\n",
    "\n",
    "    There is always a need to test the performance of the model and make sure that the model is unbiased and has not memorized the noise as well of the data.\n",
    "    We cannot just fit the model to the training data and expect it to work as perfectly on the data that it has never seen before. \n",
    "    The idea behind the validation is to get an assurance that the model is not very specific about even the noise of the data but has generically learnt the patterns inside it.\n",
    "    \n",
    "    Generally we calculate the training error after training the model. This training error can tell us how well the model has been trained but it does not tell us much about how robust the model is. \n",
    "    For a model to be generalized or robust there should be less bias and variance or in other words less underfitting and overfitting in the data. Getting this essence of the model is achieved by cross validation techniques.\n",
    "    \n"
   ]
  },
  {
   "attachments": {
    "train_validation_test.png": {
     "image/png": "[encoded data removed]"
    }
   },
   "cell_type": "markdown",
   "metadata": {},
   "source": [
    "#### Dividing Orignal data to train, test and validation\n",
    "![train_validation_test.png](attachment:train_validation_test.png)\n",
    "source:<http://www.dailysmarty.com/posts/setting-up-test-validation-and-training-sets-of-data>"
   ]
  },
  {
   "cell_type": "markdown",
   "metadata": {},
   "source": [
    "<a id=\"cv\"></a>\n",
    "## 5. Cross Validation"
   ]
  },
  {
   "cell_type": "markdown",
   "metadata": {},
   "source": [
    "Cross Validation is a very useful technique for assessing the effectiveness of your model, particularly in cases where you need to **mitigate overfitting**. \n",
    "    \n",
    "It is also of use in determining the **hyper parameters** of your model, in the sense that which parameters will result in lowest test error. This is all the basic you need to get started with cross validation."
   ]
  },
  {
   "cell_type": "markdown",
   "metadata": {},
   "source": [
    "<a id=\"benefits\"></a>\n",
    "### 5.1. Benefits of Cross Validation\n",
    "\n",
    "    It helps evaluate the quality of your model.\n",
    "    It helps to reduce/avoid problems of overfitting and underfitting.\n",
    "    It lets you select the model that will deliver the best performance on unseen data(hyper parameter tuning)."
   ]
  },
  {
   "cell_type": "markdown",
   "metadata": {},
   "source": [
    "<a id=\"sampling\"></a>\n",
    "### 5.2 Sampling techniques of Cross Validation"
   ]
  },
  {
   "cell_type": "markdown",
   "metadata": {},
   "source": [
    "#### Let us now have a look at a few methods of Sampling methods that we apply on the train data to get the validation set and further apply cross validation on the same."
   ]
  },
  {
   "cell_type": "markdown",
   "metadata": {},
   "source": [
    "<a id=\"ho\"></a>\n",
    "### 5.2.1 Holdout method"
   ]
  },
  {
   "cell_type": "markdown",
   "metadata": {},
   "source": [
    "This is the most basic method where we take a small part of the train data out and do not show it while training. The train error here tells us how our model is performing on the unseen day. This is a very simple technique called the Hold out method.\n",
    "Even though this technique doesnt need much of processing but the problem is that because we take out a random sample from the training data as the holdout then we cannot really rely upon the results. Results are high in variance."
   ]
  },
  {
   "cell_type": "code",
   "execution_count": 19,
   "metadata": {},
   "outputs": [],
   "source": [
    "#This is same as training data on train set and testing on the test set"
   ]
  },
  {
   "cell_type": "code",
   "execution_count": 20,
   "metadata": {},
   "outputs": [
    {
     "data": {
      "text/plain": [
       "RandomForestClassifier(bootstrap=True, class_weight=None, criterion='gini',\n",
       "                       max_depth=None, max_features='auto', max_leaf_nodes=None,\n",
       "                       min_impurity_decrease=0.0, min_impurity_split=None,\n",
       "                       min_samples_leaf=1, min_samples_split=2,\n",
       "                       min_weight_fraction_leaf=0.0, n_estimators=10,\n",
       "                       n_jobs=None, oob_score=False, random_state=42, verbose=0,\n",
       "                       warm_start=False)"
      ]
     },
     "execution_count": 20,
     "metadata": {},
     "output_type": "execute_result"
    }
   ],
   "source": [
    "# Fitting the Randon Forest with default hyperparameters\n",
    "rf_start =RandomForestClassifier(random_state=42)\n",
    "rf_start.fit(X_train, y_train)"
   ]
  },
  {
   "cell_type": "code",
   "execution_count": 21,
   "metadata": {},
   "outputs": [
    {
     "name": "stdout",
     "output_type": "stream",
     "text": [
      "              precision    recall  f1-score   support\n",
      "\n",
      "           0       0.98      0.99      0.99       178\n",
      "           1       0.99      0.98      0.99       142\n",
      "\n",
      "    accuracy                           0.99       320\n",
      "   macro avg       0.99      0.99      0.99       320\n",
      "weighted avg       0.99      0.99      0.99       320\n",
      "\n"
     ]
    }
   ],
   "source": [
    "# RESULTS FOR THE TRAIN SET\n",
    "#Let's check the evaluation metrics of our default model\n",
    "\n",
    "# Importing classification report and confusion matrix from sklearn metrics\n",
    "from sklearn.metrics import classification_report, confusion_matrix, accuracy_score\n",
    "\n",
    "train_pred = rf_start.predict(X_train)\n",
    "\n",
    "print(classification_report(y_train, train_pred))"
   ]
  },
  {
   "cell_type": "code",
   "execution_count": 42,
   "metadata": {},
   "outputs": [
    {
     "name": "stdout",
     "output_type": "stream",
     "text": [
      "              precision    recall  f1-score   support\n",
      "\n",
      "           0       0.90      0.83      0.86        42\n",
      "           1       0.83      0.89      0.86        38\n",
      "\n",
      "    accuracy                           0.86        80\n",
      "   macro avg       0.86      0.86      0.86        80\n",
      "weighted avg       0.87      0.86      0.86        80\n",
      "\n"
     ]
    }
   ],
   "source": [
    "# RESULTS FOR THE TEST SET\n",
    "# Making predictions on the holdout\n",
    "y_pred_default = rf_start.predict(X_test)\n",
    "\n",
    "# Printing classification report\n",
    "print(classification_report(y_test, y_pred_default))"
   ]
  },
  {
   "cell_type": "markdown",
   "metadata": {},
   "source": [
    "#### Looking above train accuracy is: 99%\n",
    "#### Test accuracy: 86%\n",
    "The difference in the train accuracy and test accuracy = 13%\n",
    "\n",
    "Which does show that the model can be overfit as it trains a lot better than test accuracy "
   ]
  },
  {
   "cell_type": "markdown",
   "metadata": {},
   "source": [
    "### Holdout after Hyper Parameter Tuning"
   ]
  },
  {
   "cell_type": "markdown",
   "metadata": {},
   "source": [
    "#### Let us now tune the hyper parameters of Random forest and then perform the same holdout technique again.\n",
    "\n",
    "    For this we set cv=2 in grid search cv to make it learn parameters on the train set itself"
   ]
  },
  {
   "cell_type": "code",
   "execution_count": 41,
   "metadata": {},
   "outputs": [
    {
     "name": "stdout",
     "output_type": "stream",
     "text": [
      "Best parameters for random forest classifier:  {'criterion': 'gini', 'max_depth': 10, 'max_features': 'sqrt', 'max_leaf_nodes': 2, 'min_samples_leaf': 1, 'min_samples_split': 2, 'n_estimators': 50} \n",
      "\n"
     ]
    }
   ],
   "source": [
    "from sklearn.model_selection import GridSearchCV\n",
    "\n",
    "# create a dictionary with hyperparameters and its values\n",
    "tuned_paramaters = [{'criterion': ['entropy', 'gini'],\n",
    "                     'n_estimators': [10, 30, 50, 70, 90],\n",
    "                     'max_depth': [10, 15, 20],\n",
    "                     'max_features': ['sqrt', 'log2'],\n",
    "                     'min_samples_split': [2, 5, 8, 11],\n",
    "                     'min_samples_leaf': [1, 5, 9],\n",
    "                     'max_leaf_nodes': [2, 5, 8, 11]}]\n",
    " \n",
    "# instantiate the 'RandomForestClassifier' \n",
    "# pass the 'random_state' to obtain the same samples for each time you run the code\n",
    "random_forest_classification = RandomForestClassifier(random_state = 10)\n",
    "\n",
    "\n",
    "rf_grid = GridSearchCV(estimator = random_forest_classification, \n",
    "                       param_grid = tuned_paramaters, \n",
    "                       cv = 2)\n",
    "\n",
    "# use fit() to fit the model on the train set\n",
    "rf_grid_model = rf_grid.fit(X_train, y_train)\n",
    "\n",
    "# get the best parameters\n",
    "print('Best parameters for random forest classifier: ', rf_grid_model.best_params_, '\\n')"
   ]
  },
  {
   "cell_type": "code",
   "execution_count": 42,
   "metadata": {},
   "outputs": [
    {
     "name": "stdout",
     "output_type": "stream",
     "text": [
      "Classification Report for train set:\n",
      "               precision    recall  f1-score   support\n",
      "\n",
      "           0       0.88      0.94      0.91       178\n",
      "           1       0.92      0.84      0.88       142\n",
      "\n",
      "    accuracy                           0.90       320\n",
      "   macro avg       0.90      0.89      0.89       320\n",
      "weighted avg       0.90      0.90      0.90       320\n",
      "\n",
      "Classification Report for test set:\n",
      "               precision    recall  f1-score   support\n",
      "\n",
      "           0       0.86      0.86      0.86        42\n",
      "           1       0.84      0.84      0.84        38\n",
      "\n",
      "    accuracy                           0.85        80\n",
      "   macro avg       0.85      0.85      0.85        80\n",
      "weighted avg       0.85      0.85      0.85        80\n",
      "\n"
     ]
    }
   ],
   "source": [
    "# instantiate the 'RandomForestClassifier'\n",
    "# 'best_params_' returns the dictionary containing best parameter values and parameter name  \n",
    "# 'get()' returns the value of specified parameter\n",
    "# pass the 'random_state' to obtain the same samples for each time you run the code\n",
    "rf_model = RandomForestClassifier(criterion = rf_grid_model.best_params_.get('criterion'), \n",
    "                                  n_estimators = rf_grid_model.best_params_.get('n_estimators'),\n",
    "                                  max_depth = rf_grid_model.best_params_.get('max_depth'),\n",
    "                                  max_features = rf_grid_model.best_params_.get('max_features'),\n",
    "                                  max_leaf_nodes = rf_grid_model.best_params_.get('max_leaf_nodes'),\n",
    "                                  min_samples_leaf = rf_grid_model.best_params_.get('min_samples_leaf'),\n",
    "                                  min_samples_split = rf_grid_model.best_params_.get('min_samples_split'),\n",
    "                                  random_state = 10)\n",
    "\n",
    "# use fit() to fit the model on the train set\n",
    "rf_model = rf_model.fit(X_train, y_train)\n",
    "\n",
    "# print the performance measures for test set for the model with best parameters\n",
    "train_pred = rf_model.predict(X_train)\n",
    "test_pred = rf_model.predict(X_test)\n",
    "print('Classification Report for train set:\\n', classification_report(y_train, train_pred))\n",
    "print('Classification Report for test set:\\n', classification_report(y_test, test_pred))"
   ]
  },
  {
   "cell_type": "code",
   "execution_count": 64,
   "metadata": {},
   "outputs": [],
   "source": [
    "#Train accuracy = 90\n",
    "#Test accuracy = 85\n",
    "#Difference is 5%"
   ]
  },
  {
   "cell_type": "code",
   "execution_count": null,
   "metadata": {},
   "outputs": [],
   "source": []
  },
  {
   "cell_type": "markdown",
   "metadata": {},
   "source": [
    "<a id=\"kfold\"></a>\n",
    "### 5.2.2 K-fold Cross validation"
   ]
  },
  {
   "cell_type": "markdown",
   "metadata": {},
   "source": [
    "So as we saw above in the holdout , we are taking out a sample of the training data and keeping it away from training.\n",
    "\n",
    "But we all know that there is no amount data that we can consider is enough for capturing the right patterns plus over that if we take out another set of holdout data from it, it can further decrease the possibility of training the model well.\n",
    "\n",
    "Hence that it where out **K-fold cross validation** comes into picture where we have ample data to train and also validate our results.\n",
    "\n",
    "In K-fold cross validation , **the data is divided into k subsets**. Now everytime, we take this kth subset as the holdout and train the model on the rest of the data.\n",
    "After this we **average out the error estimation** that we have got on all the k subsets. Doing this we can be confident that every data point is coming in the validation part exactly once.\n",
    "\n",
    "This method also **decreases bias** as we are training the model on all the k-1 respective subsets and similarly there will also be **less variance** as all the data points will for once be a part of the validation sets.\n",
    "\n",
    "The value of K is not fixed and depends on the dataset. Generally the range of **K is between 5-10 depending on the size of the data** keeping in mind enough data will be available for training."
   ]
  },
  {
   "cell_type": "markdown",
   "metadata": {},
   "source": [
    "### CV=5"
   ]
  },
  {
   "cell_type": "code",
   "execution_count": 44,
   "metadata": {},
   "outputs": [],
   "source": [
    "# n_splits: specify the number of k folds\n",
    "kf = KFold(n_splits = 5)"
   ]
  },
  {
   "cell_type": "code",
   "execution_count": 45,
   "metadata": {},
   "outputs": [
    {
     "name": "stdout",
     "output_type": "stream",
     "text": [
      "All train scores:  [0.9921875, 0.9921875, 0.984375, 0.98046875, 0.98828125]\n",
      "All test scores:  [0.875, 0.78125, 0.84375, 0.90625, 0.8125]\n",
      "\n",
      "Minimum train score obtained:  0.9805\n",
      "Minimum test score obtained:  0.7812\n",
      "\n",
      "Maximum train score obtained:  0.9922\n",
      "Maximum test score obtained:  0.9062\n",
      "\n",
      "Average train score obtained:  0.9875\n",
      "Average test score obtained:  0.8438\n"
     ]
    }
   ],
   "source": [
    "# create an empty list to store the scores\n",
    "scores = []\n",
    "scores_train =[]\n",
    "\n",
    "# kf.split() splits the indices of X_train into train_index and test_index\n",
    "# further dividing the X_train and y_train sets into train and test sets for cross validation\n",
    "# Remember: Cross validation works on training set not on test set\n",
    "# use '\\' for stacking the code \n",
    "for train_index, test_index in kf.split(X_train):\n",
    "    X_train_k, X_test_k, y_train_k, y_test_k = X_train.iloc[train_index], X_train.iloc[test_index], \\\n",
    "                                               y_train.iloc[train_index], y_train.iloc[test_index]\n",
    "   \n",
    "    \n",
    "    rf_start.fit(X_train_k, y_train_k)          # fit the model\n",
    "    scores_train.append(rf_start.score(X_train_k, y_train_k))\n",
    "    scores.append(rf_start.score(X_test_k, y_test_k))\n",
    "    \n",
    "# print all scores\n",
    "print('All train scores: ', scores_train)\n",
    "print('All test scores: ', scores)\n",
    "print(\"\\nMinimum train score obtained: \", round(min(scores_train), 4))\n",
    "print(\"Minimum test score obtained: \", round(min(scores), 4))\n",
    "\n",
    "\n",
    "print(\"\\nMaximum train score obtained: \", round(max(scores_train), 4))\n",
    "print(\"Maximum test score obtained: \", round(max(scores), 4))\n",
    "\n",
    "\n",
    "print(\"\\nAverage train score obtained: \", round(np.mean(scores_train), 4))\n",
    "print(\"Average test score obtained: \", round(np.mean(scores), 4))"
   ]
  },
  {
   "cell_type": "markdown",
   "metadata": {},
   "source": [
    "#### Looking above train accuracy is: 98.7%\n",
    "#### Test accuracy: 84.3%\n",
    "Which does show that the model fit is overfit as it trains a lot better than test accuracy "
   ]
  },
  {
   "cell_type": "markdown",
   "metadata": {},
   "source": [
    "### Lets try and change value of K and see if that gives better result."
   ]
  },
  {
   "cell_type": "markdown",
   "metadata": {},
   "source": [
    "### CV=10"
   ]
  },
  {
   "cell_type": "code",
   "execution_count": 46,
   "metadata": {},
   "outputs": [],
   "source": [
    "# n_splits: specify the number of k folds\n",
    "kf = KFold(n_splits = 10)"
   ]
  },
  {
   "cell_type": "code",
   "execution_count": 47,
   "metadata": {},
   "outputs": [
    {
     "name": "stdout",
     "output_type": "stream",
     "text": [
      "All train scores:  [0.9791666666666666, 0.9791666666666666, 0.9861111111111112, 0.9895833333333334, 0.9895833333333334, 0.9930555555555556, 0.9895833333333334, 0.9930555555555556, 0.9861111111111112, 0.9826388888888888]\n",
      "All test scores:  [0.8125, 0.90625, 0.75, 0.8125, 0.875, 0.8125, 0.96875, 0.875, 0.84375, 0.90625]\n",
      "\n",
      "Minimum train score obtained:  0.9792\n",
      "Minimum test score obtained:  0.75\n",
      "\n",
      "Maximum train score obtained:  0.9931\n",
      "Maximum test score obtained:  0.9688\n",
      "\n",
      "Average train score obtained:  0.9868\n",
      "Average test score obtained:  0.8562\n"
     ]
    }
   ],
   "source": [
    "# create an empty list to store the scores\n",
    "scores = []\n",
    "scores_train =[]\n",
    "\n",
    "# kf.split() splits the indices of X_train into train_index and test_index\n",
    "# further dividing the X_train and y_train sets into train and test sets for cross validation\n",
    "# Remember: Cross validation works on training set not on test set\n",
    "# use '\\' for stacking the code \n",
    "for train_index, test_index in kf.split(X_train):\n",
    "    X_train_k, X_test_k, y_train_k, y_test_k = X_train.iloc[train_index], X_train.iloc[test_index], \\\n",
    "                                               y_train.iloc[train_index], y_train.iloc[test_index]\n",
    "   \n",
    "    \n",
    "    rf_start.fit(X_train_k, y_train_k)          # fit the model\n",
    "    scores_train.append(rf_start.score(X_train_k, y_train_k))\n",
    "    scores.append(rf_start.score(X_test_k, y_test_k))\n",
    "    \n",
    "# print all scores\n",
    "print('All train scores: ', scores_train)\n",
    "print('All test scores: ', scores)\n",
    "print(\"\\nMinimum train score obtained: \", round(min(scores_train), 4))\n",
    "print(\"Minimum test score obtained: \", round(min(scores), 4))\n",
    "\n",
    "\n",
    "print(\"\\nMaximum train score obtained: \", round(max(scores_train), 4))\n",
    "print(\"Maximum test score obtained: \", round(max(scores), 4))\n",
    "\n",
    "\n",
    "print(\"\\nAverage train score obtained: \", round(np.mean(scores_train), 4))\n",
    "print(\"Average test score obtained: \", round(np.mean(scores), 4))"
   ]
  },
  {
   "cell_type": "markdown",
   "metadata": {},
   "source": [
    "#### Looking above train accuracy is: 98.6%\n",
    "#### Test accuracy: 85.6%\n",
    "There is still quite a lot of difference in the train and test whcih is 13.0"
   ]
  },
  {
   "cell_type": "markdown",
   "metadata": {},
   "source": [
    "### K-Fold Cross Validation using `cross_val_score()`"
   ]
  },
  {
   "cell_type": "markdown",
   "metadata": {},
   "source": [
    "### CV=5"
   ]
  },
  {
   "cell_type": "code",
   "execution_count": 48,
   "metadata": {},
   "outputs": [],
   "source": [
    "# using cross_val_score() for k-fold cross validation\n",
    "# estimator:Here we are performing Random forest\n",
    "# pass the X_train and y_train sets\n",
    "# cv: stands for number of folds. Similar to k in KFold\n",
    "# scoring: pass the scoring parameter e.g. 'r2' for r-squared, 'accuracy' for accuracy\n",
    "from sklearn.model_selection import cross_val_score\n",
    "scores = cross_val_score(estimator = rf_start, \n",
    "                         X = X_train, \n",
    "                         y = y_train, \n",
    "                         cv = 5, \n",
    "                         scoring = 'accuracy')"
   ]
  },
  {
   "cell_type": "code",
   "execution_count": 49,
   "metadata": {},
   "outputs": [
    {
     "name": "stdout",
     "output_type": "stream",
     "text": [
      "All scores:  [0.86153846 0.78461538 0.8125     0.87301587 0.82539683]\n",
      "\n",
      "Minimum score obtained:  0.7846\n",
      "Maximum score obtained:  0.873\n",
      "Average score obtained:  0.8314\n"
     ]
    }
   ],
   "source": [
    "# print all scores\n",
    "print('All scores: ', scores)\n",
    "\n",
    "print(\"\\nMinimum score obtained: \", round(min(scores), 4))\n",
    "\n",
    "\n",
    "print(\"Maximum score obtained: \", round(max(scores), 4))\n",
    "\n",
    "\n",
    "print(\"Average score obtained: \", round(np.mean(scores), 4))"
   ]
  },
  {
   "cell_type": "markdown",
   "metadata": {},
   "source": [
    "#### Looking above train accuracy is: 98.6%\n",
    "#### Test accuracy: 83.14%\n",
    "There is still quite a lot of difference in the train and test whcih is 15.4"
   ]
  },
  {
   "cell_type": "markdown",
   "metadata": {},
   "source": [
    "### CV=10"
   ]
  },
  {
   "cell_type": "code",
   "execution_count": 54,
   "metadata": {},
   "outputs": [],
   "source": [
    "# using cross_val_score() for k-fold cross validation\n",
    "# estimator:Here we are performing Random forest\n",
    "# pass the X_train and y_train sets\n",
    "# cv: stands for number of folds. Similar to k in KFold\n",
    "# scoring: pass the scoring parameter e.g. 'r2' for r-squared, 'accuracy' for accuracy\n",
    "scores = cross_val_score(estimator = rf_start, \n",
    "                         X = X_train, \n",
    "                         y = y_train, \n",
    "                         cv = 10, \n",
    "                         scoring = 'accuracy')"
   ]
  },
  {
   "cell_type": "code",
   "execution_count": 55,
   "metadata": {},
   "outputs": [
    {
     "name": "stdout",
     "output_type": "stream",
     "text": [
      "All scores:  [0.84848485 0.90909091 0.84375    0.71875    0.90625    0.84375\n",
      " 0.96875    0.84375    0.87096774 0.90322581]\n",
      "\n",
      "Minimum score obtained:  0.7188\n",
      "Maximum score obtained:  0.9688\n",
      "Average score obtained:  0.8657\n"
     ]
    }
   ],
   "source": [
    "# print all scores\n",
    "print('All scores: ', scores)\n",
    "\n",
    "print(\"\\nMinimum score obtained: \", round(min(scores), 4))\n",
    "\n",
    "\n",
    "print(\"Maximum score obtained: \", round(max(scores), 4))\n",
    "\n",
    "\n",
    "print(\"Average score obtained: \", round(np.mean(scores), 4))"
   ]
  },
  {
   "cell_type": "markdown",
   "metadata": {},
   "source": [
    "#### Looking above train accuracy is: 98.6%\n",
    "#### Test accuracy: 86.57.6%\n",
    "There is still quite a lot of difference in the train and test whcih is 12.03"
   ]
  },
  {
   "cell_type": "markdown",
   "metadata": {},
   "source": [
    "We can observe that the test accuracies are similar to the above k fold techniques.\n",
    "\n",
    "Also after applying k fold cross val the difference in train and test has decreased.\n",
    "\n",
    "**The only problem with this direct function is that it doesnt gives us the train accuracy.**"
   ]
  },
  {
   "cell_type": "markdown",
   "metadata": {},
   "source": [
    "<a id=\"skfold\"></a>\n",
    "### 5.2.3 Stratified K-fold cross validation"
   ]
  },
  {
   "cell_type": "markdown",
   "metadata": {},
   "source": [
    "Now the problem with the simple K fold technique is that if the data that we have is highly imbalanced.\n",
    "Then it can be possible that we have mostly all the negative cases in any one of the kth subset. And in most of the k subsets there will be maximum of samples in the training set to be positive which leads to high bias in the training.\n",
    "For such problems, a slight change in the above technique is done , such that each fold cotains almost the same ratio of each class in the target. This is called Stratified K fold technique. \n",
    "\n",
    "\n"
   ]
  },
  {
   "cell_type": "code",
   "execution_count": 58,
   "metadata": {},
   "outputs": [
    {
     "data": {
      "text/plain": [
       "0    55.0\n",
       "1    45.0\n",
       "Name: Chance of Admit, dtype: float64"
      ]
     },
     "execution_count": 58,
     "metadata": {},
     "output_type": "execute_result"
    }
   ],
   "source": [
    "target.value_counts(1)*100"
   ]
  },
  {
   "cell_type": "markdown",
   "metadata": {},
   "source": [
    "### Since there is not much imbalance in the target column. Let us see if stratified k fold shows any difference"
   ]
  },
  {
   "cell_type": "markdown",
   "metadata": {},
   "source": [
    "### CV=5"
   ]
  },
  {
   "cell_type": "code",
   "execution_count": 59,
   "metadata": {},
   "outputs": [],
   "source": [
    "# n_splits: specify the number of k folds\n",
    "skf = StratifiedKFold(n_splits = 5)"
   ]
  },
  {
   "cell_type": "code",
   "execution_count": 60,
   "metadata": {},
   "outputs": [
    {
     "name": "stdout",
     "output_type": "stream",
     "text": [
      "All train scores:  [0.9882352941176471, 0.9921568627450981, 0.984375, 0.9844357976653697, 0.9883268482490273]\n",
      "All test scores:  [0.8615384615384616, 0.7846153846153846, 0.8125, 0.873015873015873, 0.8253968253968254]\n",
      "\n",
      "Minimum train score obtained:  0.9844\n",
      "Minimum test score obtained:  0.7846\n",
      "\n",
      "Maximum train score obtained:  0.9922\n",
      "Maximum test score obtained:  0.873\n",
      "\n",
      "Average train score obtained:  0.9875\n",
      "Average test score obtained:  0.8314\n"
     ]
    }
   ],
   "source": [
    "# create an empty list to store the scores\n",
    "scores = []\n",
    "scores_train =[]\n",
    "\n",
    "# skf.split() splits the indices of X_train into train_index and test_index\n",
    "# further dividing the X_train and y_train sets into train and test sets for cross validation\n",
    "# Remember: Cross validation works on training set not on test set\n",
    "# use '\\' for stacking the code \n",
    "for train_index, test_index in skf.split(X_train,y_train):\n",
    "    X_train_k, X_test_k, y_train_k, y_test_k = X_train.iloc[train_index], X_train.iloc[test_index], \\\n",
    "                                               y_train.iloc[train_index], y_train.iloc[test_index]\n",
    "   \n",
    "    \n",
    "    rf_start.fit(X_train_k, y_train_k)          # fit the model\n",
    "    scores_train.append(rf_start.score(X_train_k, y_train_k))\n",
    "    scores.append(rf_start.score(X_test_k, y_test_k))\n",
    "    \n",
    "# print all scores\n",
    "print('All train scores: ', scores_train)\n",
    "print('All test scores: ', scores)\n",
    "print(\"\\nMinimum train score obtained: \", round(min(scores_train), 4))\n",
    "print(\"Minimum test score obtained: \", round(min(scores), 4))\n",
    "\n",
    "\n",
    "print(\"\\nMaximum train score obtained: \", round(max(scores_train), 4))\n",
    "print(\"Maximum test score obtained: \", round(max(scores), 4))\n",
    "\n",
    "\n",
    "print(\"\\nAverage train score obtained: \", round(np.mean(scores_train), 4))\n",
    "print(\"Average test score obtained: \", round(np.mean(scores), 4))"
   ]
  },
  {
   "cell_type": "markdown",
   "metadata": {},
   "source": [
    "### CV=10"
   ]
  },
  {
   "cell_type": "code",
   "execution_count": 61,
   "metadata": {},
   "outputs": [],
   "source": [
    "# n_splits: specify the number of k folds\n",
    "skf = StratifiedKFold(n_splits = 10)"
   ]
  },
  {
   "cell_type": "code",
   "execution_count": 62,
   "metadata": {},
   "outputs": [
    {
     "name": "stdout",
     "output_type": "stream",
     "text": [
      "All train scores:  [0.9790940766550522, 0.9790940766550522, 0.9861111111111112, 0.9861111111111112, 0.9895833333333334, 0.9895833333333334, 0.9791666666666666, 0.9895833333333334, 0.9930795847750865, 0.9826989619377162]\n",
      "All test scores:  [0.8484848484848485, 0.9090909090909091, 0.84375, 0.71875, 0.90625, 0.84375, 0.96875, 0.84375, 0.8709677419354839, 0.9032258064516129]\n",
      "\n",
      "Minimum train score obtained:  0.9791\n",
      "Minimum test score obtained:  0.7188\n",
      "\n",
      "Maximum train score obtained:  0.9931\n",
      "Maximum test score obtained:  0.9688\n",
      "\n",
      "Average train score obtained:  0.9854\n",
      "Average test score obtained:  0.8657\n"
     ]
    }
   ],
   "source": [
    "# create an empty list to store the scores\n",
    "scores = []\n",
    "scores_train =[]\n",
    "\n",
    "# skf.split() splits the indices of X_train into train_index and test_index\n",
    "# further dividing the X_train and y_train sets into train and test sets for cross validation\n",
    "# Remember: Cross validation works on training set not on test set\n",
    "# use '\\' for stacking the code \n",
    "for train_index, test_index in skf.split(X_train,y_train):\n",
    "    X_train_k, X_test_k, y_train_k, y_test_k = X_train.iloc[train_index], X_train.iloc[test_index], \\\n",
    "                                               y_train.iloc[train_index], y_train.iloc[test_index]\n",
    "   \n",
    "    \n",
    "    rf_start.fit(X_train_k, y_train_k)          # fit the model\n",
    "    scores_train.append(rf_start.score(X_train_k, y_train_k))\n",
    "    scores.append(rf_start.score(X_test_k, y_test_k))\n",
    "    \n",
    "# print all scores\n",
    "print('All train scores: ', scores_train)\n",
    "print('All test scores: ', scores)\n",
    "print(\"\\nMinimum train score obtained: \", round(min(scores_train), 4))\n",
    "print(\"Minimum test score obtained: \", round(min(scores), 4))\n",
    "\n",
    "\n",
    "print(\"\\nMaximum train score obtained: \", round(max(scores_train), 4))\n",
    "print(\"Maximum test score obtained: \", round(max(scores), 4))\n",
    "\n",
    "\n",
    "print(\"\\nAverage train score obtained: \", round(np.mean(scores_train), 4))\n",
    "print(\"Average test score obtained: \", round(np.mean(scores), 4))"
   ]
  },
  {
   "cell_type": "markdown",
   "metadata": {},
   "source": [
    "#### Looking above train accuracy is: 98.5%\n",
    "#### Test accuracy: 86.57%\n",
    "The difference in the train and test which is 12.0.\n",
    "But here the accuracies are same as K fold"
   ]
  },
  {
   "cell_type": "markdown",
   "metadata": {},
   "source": [
    "<a id=\"hyper\"></a>\n",
    "## 3.1 Tune the Hyperparameters using GridSearchCV (Random Forest)"
   ]
  },
  {
   "cell_type": "markdown",
   "metadata": {},
   "source": [
    "### CV=10\n",
    "**As we can see that cv=10 gives less overfitting i.e difference in train and test accuracy**"
   ]
  },
  {
   "cell_type": "code",
   "execution_count": 38,
   "metadata": {},
   "outputs": [
    {
     "name": "stdout",
     "output_type": "stream",
     "text": [
      "Best parameters for random forest classifier:  {'criterion': 'entropy', 'max_depth': 10, 'max_features': 'sqrt', 'max_leaf_nodes': 5, 'min_samples_leaf': 1, 'min_samples_split': 2, 'n_estimators': 50} \n",
      "\n"
     ]
    }
   ],
   "source": [
    "from sklearn.model_selection import GridSearchCV\n",
    "\n",
    "# create a dictionary with hyperparameters and its values\n",
    "tuned_paramaters = [{'criterion': ['entropy', 'gini'],\n",
    "                     'n_estimators': [10, 30, 50, 70, 90],\n",
    "                     'max_depth': [10, 15, 20],\n",
    "                     'max_features': ['sqrt', 'log2'],\n",
    "                     'min_samples_split': [2, 5, 8, 11],\n",
    "                     'min_samples_leaf': [1, 5, 9],\n",
    "                     'max_leaf_nodes': [2, 5, 8, 11]}]\n",
    " \n",
    "# instantiate the 'RandomForestClassifier' \n",
    "# pass the 'random_state' to obtain the same samples for each time you run the code\n",
    "random_forest_classification = RandomForestClassifier(random_state = 10)\n",
    "\n",
    "\n",
    "rf_grid = GridSearchCV(estimator = random_forest_classification, \n",
    "                       param_grid = tuned_paramaters, \n",
    "                       cv = 10)\n",
    "\n",
    "# use fit() to fit the model on the train set\n",
    "rf_grid_model = rf_grid.fit(X_train, y_train)\n",
    "\n",
    "# get the best parameters\n",
    "print('Best parameters for random forest classifier: ', rf_grid_model.best_params_, '\\n')"
   ]
  },
  {
   "cell_type": "markdown",
   "metadata": {},
   "source": [
    "#### Build the model using the tuned hyperparameters."
   ]
  },
  {
   "cell_type": "code",
   "execution_count": 40,
   "metadata": {},
   "outputs": [
    {
     "name": "stdout",
     "output_type": "stream",
     "text": [
      "Classification Report for train set:\n",
      "               precision    recall  f1-score   support\n",
      "\n",
      "           0       0.88      0.94      0.91       178\n",
      "           1       0.92      0.85      0.88       142\n",
      "\n",
      "    accuracy                           0.90       320\n",
      "   macro avg       0.90      0.89      0.90       320\n",
      "weighted avg       0.90      0.90      0.90       320\n",
      "\n",
      "Classification Report for test set:\n",
      "               precision    recall  f1-score   support\n",
      "\n",
      "           0       0.88      0.86      0.87        42\n",
      "           1       0.85      0.87      0.86        38\n",
      "\n",
      "    accuracy                           0.86        80\n",
      "   macro avg       0.86      0.86      0.86        80\n",
      "weighted avg       0.86      0.86      0.86        80\n",
      "\n"
     ]
    }
   ],
   "source": [
    "# instantiate the 'RandomForestClassifier'\n",
    "# 'best_params_' returns the dictionary containing best parameter values and parameter name  \n",
    "# 'get()' returns the value of specified parameter\n",
    "# pass the 'random_state' to obtain the same samples for each time you run the code\n",
    "rf_model = RandomForestClassifier(criterion = rf_grid_model.best_params_.get('criterion'), \n",
    "                                  n_estimators = rf_grid_model.best_params_.get('n_estimators'),\n",
    "                                  max_depth = rf_grid_model.best_params_.get('max_depth'),\n",
    "                                  max_features = rf_grid_model.best_params_.get('max_features'),\n",
    "                                  max_leaf_nodes = rf_grid_model.best_params_.get('max_leaf_nodes'),\n",
    "                                  min_samples_leaf = rf_grid_model.best_params_.get('min_samples_leaf'),\n",
    "                                  min_samples_split = rf_grid_model.best_params_.get('min_samples_split'),\n",
    "                                  random_state = 10)\n",
    "\n",
    "# use fit() to fit the model on the train set\n",
    "rf_model = rf_model.fit(X_train, y_train)\n",
    "\n",
    "# print the performance measures for test set for the model with best parameters\n",
    "train_pred = rf_model.predict(X_train)\n",
    "test_pred = rf_model.predict(X_test)\n",
    "print('Classification Report for train set:\\n', classification_report(y_train, train_pred))\n",
    "print('Classification Report for test set:\\n', classification_report(y_test, test_pred))"
   ]
  },
  {
   "cell_type": "markdown",
   "metadata": {},
   "source": [
    "#In grid search CV we are doing hyparameter tuning while performing k fold cross validation.\n",
    "#We have used CV = 10 here as that was giving us less overfit in the previous step.\n",
    "\n",
    "#We can observe that the average after picking the best params and refitting the model on the best params we are getting \n",
    "\n",
    "**TRAIN ACCURACY= 90%**\n",
    "**TEST ACCURACY = 86%**\n",
    "\n",
    "***Now here even the parameters that we have chosen are best and these parameters are chosen using cross validation which ultimately even decreases the difference between train and test accuracy***"
   ]
  },
  {
   "cell_type": "markdown",
   "metadata": {},
   "source": [
    "<a id=\"leave\"></a>\n",
    "### 5.2.4 Leave-P-Out Cross Validation"
   ]
  },
  {
   "cell_type": "markdown",
   "metadata": {},
   "source": [
    "In this approach as the name suggests we leave p samples out of the total training set as the validation set.\n",
    "Therefor now we have p samples in the validation data and n-p samples in the training data. This is repeated in such a way that we take all posible p samples from the dataset and keep the rest as training set.\n",
    "Similar to k fold technique we then average out the estimation error.\n",
    "\n",
    "The specific case for this method is when we have p=1 called the leave one out cross validation technique.\n",
    "This is better that taking p as some other value as we do not haveto take all posib;e combinations of p samples rather we just pick out the number of possible combinatiosn as the number of samples in the training data."
   ]
  },
  {
   "cell_type": "code",
   "execution_count": 85,
   "metadata": {},
   "outputs": [
    {
     "name": "stdout",
     "output_type": "stream",
     "text": [
      "\n",
      "Minimum train score obtained:  0.9812\n",
      "Minimum test score obtained:  0.0\n",
      "\n",
      "Maximum train score obtained:  1.0\n",
      "Maximum test score obtained:  1.0\n",
      "\n",
      "Average train score obtained:  0.9927\n",
      "Average test score obtained:  0.8406\n"
     ]
    }
   ],
   "source": [
    "# create an empty to store the MSE for each model\n",
    "loocv_score = []\n",
    "loocv_train_score = []\n",
    "\n",
    "# instantiate the LOOCV method \n",
    "loocv = LeaveOneOut()\n",
    "\n",
    "# use the for loop to build the classification model for each cross validation \n",
    "# use split() to split the dataset into two subsets; one with (n-1) data points and another with 1 data point\n",
    "# where, n = total number of observations\n",
    "\n",
    "for train_index, test_index in loocv.split(X_train):\n",
    "    # create the train dataset, use iloc[] to retrieve the corresponding observations in train data\n",
    "    # create the test dataset, use iloc[] to retrieve the corresponding observations in test data\n",
    "    # # use '\\' for stacking the code \n",
    "    X_train_l, X_test_l, y_train_l, y_test_l = X_train.iloc[train_index], X_train.iloc[test_index], \\\n",
    "                                               y_train.iloc[train_index], y_train.iloc[test_index]\n",
    "    \n",
    "    \n",
    "    \n",
    "    # fit the model on training dataset\n",
    "    rf_start.fit(X_train_l, y_train_l)\n",
    "    \n",
    "    \n",
    "    loocv_train_score.append(rf_start.score(X_train_l, y_train_l))\n",
    "    loocv_score.append(rf_start.score(X_test_l, y_test_l))\n",
    "    \n",
    "    \n",
    "# print all scores\n",
    "print(\"\\nMinimum train score obtained: \", round(min(loocv_train_score), 4))\n",
    "print(\"Minimum test score obtained: \", round(min(loocv_score), 4))\n",
    "\n",
    "\n",
    "print(\"\\nMaximum train score obtained: \", round(max(loocv_train_score), 4))\n",
    "print(\"Maximum test score obtained: \", round(max(loocv_score), 4))\n",
    "\n",
    "\n",
    "print(\"\\nAverage train score obtained: \", round(np.mean(loocv_train_score), 4))\n",
    "print(\"Average test score obtained: \", round(np.mean(loocv_score), 4))    "
   ]
  },
  {
   "cell_type": "code",
   "execution_count": 68,
   "metadata": {},
   "outputs": [],
   "source": [
    "#After using leave one out we can observe that \n",
    "#Train accuracy = 99.2%\n",
    "#Test accuracy = 84.06%\n",
    "#This is worse than k fold CV"
   ]
  },
  {
   "cell_type": "code",
   "execution_count": null,
   "metadata": {},
   "outputs": [],
   "source": [
    "# create an empty to store the MSE for each model\n",
    "lpocv_score = []\n",
    "lpocv_train_score=[]\n",
    "\n",
    "# instantiate the LOOCV method \n",
    "lpocv = LeavePOut(p=5)\n",
    "\n",
    "# use the for loop to build the classification model for each cross validation \n",
    "# use split() to split the dataset into two subsets; one with (n-1) data points and another with 1 data point\n",
    "# where, n = total number of observations\n",
    "\n",
    "for train_index, test_index in lpocv.split(X_train):\n",
    "    # create the train dataset, use iloc[] to retrieve the corresponding observations in train data\n",
    "    # create the test dataset, use iloc[] to retrieve the corresponding observations in test data\n",
    "    # # use '\\' for stacking the code \n",
    "    X_train_l, X_test_l, y_train_l, y_test_l = X_train.iloc[train_index], X_train.iloc[test_index], \\\n",
    "                                               y_train.iloc[train_index], y_train.iloc[test_index]\n",
    "    \n",
    "    \n",
    "    \n",
    "    # fit the model on training dataset\n",
    "    rf_start.fit(X_train_l, y_train_l)\n",
    "    \n",
    "    \n",
    "    lpocv_train_score.append(rf_start.score(X_train_l, y_train_l))\n",
    "    lpocv_score.append(rf_start.score(X_test_l, y_test_l))\n",
    "    \n",
    "    \n",
    "# print all scores\n",
    "print(\"\\nMinimum train score obtained: \", round(min(lpocv_train_score), 4))\n",
    "print(\"Minimum test score obtained: \", round(min(lpocv_score), 4))\n",
    "\n",
    "\n",
    "print(\"\\nMaximum train score obtained: \", round(max(lpocv_train_score), 4))\n",
    "print(\"Maximum test score obtained: \", round(max(lpocv_score), 4))\n",
    "\n",
    "\n",
    "print(\"\\nAverage train score obtained: \", round(np.mean(lpocv_train_score), 4))\n",
    "print(\"Average test score obtained: \", round(np.mean(lpocv_score), 4))    "
   ]
  },
  {
   "cell_type": "markdown",
   "metadata": {},
   "source": [
    "#The above p out takes a large amount of time to run as p takes all the combinations of 5 test rows."
   ]
  },
  {
   "cell_type": "markdown",
   "metadata": {},
   "source": [
    "<a id=\"extra\"></a>\n",
    "## 6. Some more sampling techniques of doing cross validations"
   ]
  },
  {
   "cell_type": "markdown",
   "metadata": {},
   "source": [
    "### K-Fold Cross Validation - With Shuffle"
   ]
  },
  {
   "cell_type": "code",
   "execution_count": 83,
   "metadata": {},
   "outputs": [
    {
     "name": "stdout",
     "output_type": "stream",
     "text": [
      "All train scores:  [0.9895833333333334, 0.9791666666666666, 0.9930555555555556, 0.9861111111111112, 0.9826388888888888, 0.9826388888888888, 0.9930555555555556, 0.9826388888888888, 0.9861111111111112, 0.9930555555555556]\n",
      "All test scores:  [0.875, 0.8125, 0.875, 0.90625, 0.875, 0.875, 0.84375, 0.90625, 0.875, 0.96875]\n",
      "\n",
      "Minimum train score obtained:  0.9792\n",
      "Minimum test score obtained:  0.8125\n",
      "\n",
      "Maximum train score obtained:  0.9931\n",
      "Maximum test score obtained:  0.9688\n",
      "\n",
      "Average train score obtained:  0.9868\n",
      "Average test score obtained:  0.8812\n"
     ]
    }
   ],
   "source": [
    "# n_splits: specify the number of k folds\n",
    "kf = KFold(n_splits = 10, shuffle=True, random_state=12)\n",
    "# create an empty list to store the scores\n",
    "scores = []\n",
    "scores_train =[]\n",
    "\n",
    "# kf.split() splits the indices of X_train into train_index and test_index\n",
    "# further dividing the X_train and y_train sets into train and test sets for cross validation\n",
    "# Remember: Cross validation works on training set not on test set\n",
    "# use '\\' for stacking the code \n",
    "for train_index, test_index in kf.split(X_train):\n",
    "    X_train_k, X_test_k, y_train_k, y_test_k = X_train.iloc[train_index], X_train.iloc[test_index], \\\n",
    "                                               y_train.iloc[train_index], y_train.iloc[test_index]\n",
    "   \n",
    "    \n",
    "    rf_start.fit(X_train_k, y_train_k)          # fit the model\n",
    "    scores_train.append(rf_start.score(X_train_k, y_train_k))\n",
    "    scores.append(rf_start.score(X_test_k, y_test_k))\n",
    "    \n",
    "# print all scores\n",
    "print('All train scores: ', scores_train)\n",
    "print('All test scores: ', scores)\n",
    "print(\"\\nMinimum train score obtained: \", round(min(scores_train), 4))\n",
    "print(\"Minimum test score obtained: \", round(min(scores), 4))\n",
    "\n",
    "\n",
    "print(\"\\nMaximum train score obtained: \", round(max(scores_train), 4))\n",
    "print(\"Maximum test score obtained: \", round(max(scores), 4))\n",
    "\n",
    "\n",
    "print(\"\\nAverage train score obtained: \", round(np.mean(scores_train), 4))\n",
    "print(\"Average test score obtained: \", round(np.mean(scores), 4))"
   ]
  },
  {
   "cell_type": "code",
   "execution_count": 73,
   "metadata": {},
   "outputs": [],
   "source": [
    "# The differnce in accuracies has slightly decreased compared to kfold without shuffle\n",
    "#train acc = 98.7\n",
    "#test acc = 88.12"
   ]
  },
  {
   "cell_type": "markdown",
   "metadata": {},
   "source": [
    "### Random Permutation Cross Validation"
   ]
  },
  {
   "cell_type": "markdown",
   "metadata": {},
   "source": [
    "ShuffleSplit will randomly sample the entire dataset during each iteration to generate a training set and a validation set. The test_size and train_size parameters control how large the validation and training set should be for each iteration. Since we are sampling from the entire dataset during each iteration, values selected during one iteration, could be selected again during another iteration.\n",
    "\n",
    "Since some data are not included in the training, this method is faster than normal k fold cross validation."
   ]
  },
  {
   "cell_type": "code",
   "execution_count": 82,
   "metadata": {},
   "outputs": [
    {
     "name": "stdout",
     "output_type": "stream",
     "text": [
      "All train scores:  [0.9652777777777778, 0.9930555555555556, 0.9861111111111112, 0.9930555555555556, 0.9791666666666666, 0.9861111111111112, 0.9826388888888888, 0.9861111111111112, 0.9895833333333334, 0.9895833333333334]\n",
      "All test scores:  [0.96875, 0.9375, 0.9375, 0.84375, 0.9375, 0.8125, 0.875, 0.875, 0.90625, 0.84375]\n",
      "\n",
      "Minimum train score obtained:  0.9653\n",
      "Minimum test score obtained:  0.8125\n",
      "\n",
      "Maximum train score obtained:  0.9931\n",
      "Maximum test score obtained:  0.9688\n",
      "\n",
      "Average train score obtained:  0.9851\n",
      "Average test score obtained:  0.8938\n"
     ]
    }
   ],
   "source": [
    "kfolds_shuffleSplit = ShuffleSplit(n_splits= 10, random_state=12, train_size=0.9, test_size=0.10)\n",
    "\n",
    "scores = []\n",
    "scores_train =[]\n",
    "\n",
    "\n",
    "for train_index, test_index in kfolds_shuffleSplit.split(X_train):\n",
    "    X_train_k, X_test_k, y_train_k, y_test_k = X_train.iloc[train_index], X_train.iloc[test_index], \\\n",
    "                                               y_train.iloc[train_index], y_train.iloc[test_index]\n",
    "   \n",
    "    \n",
    "    rf_start.fit(X_train_k, y_train_k)          # fit the model\n",
    "    scores_train.append(rf_start.score(X_train_k, y_train_k))\n",
    "    scores.append(rf_start.score(X_test_k, y_test_k))\n",
    "    \n",
    "# print all scores\n",
    "print('All train scores: ', scores_train)\n",
    "print('All test scores: ', scores)\n",
    "print(\"\\nMinimum train score obtained: \", round(min(scores_train), 4))\n",
    "print(\"Minimum test score obtained: \", round(min(scores), 4))\n",
    "\n",
    "\n",
    "print(\"\\nMaximum train score obtained: \", round(max(scores_train), 4))\n",
    "print(\"Maximum test score obtained: \", round(max(scores), 4))\n",
    "\n",
    "\n",
    "print(\"\\nAverage train score obtained: \", round(np.mean(scores_train), 4))\n",
    "print(\"Average test score obtained: \", round(np.mean(scores), 4))"
   ]
  },
  {
   "cell_type": "code",
   "execution_count": 84,
   "metadata": {},
   "outputs": [],
   "source": [
    "# The differnce in accuracies has slightly decreased compared to kfold without \n",
    "#shuffle and kfold with shuffle\n",
    "#\n",
    "#train acc = 98.68\n",
    "#test acc = 89.38"
   ]
  },
  {
   "cell_type": "markdown",
   "metadata": {},
   "source": [
    "### Grouped K-Fold"
   ]
  },
  {
   "cell_type": "markdown",
   "metadata": {},
   "source": [
    "We can define groups from another column of the dataset. The same group is ensured not to be in both training and validation sets.\n",
    "#Here since we only have Research as categorical hence I have take groups according to that.\n",
    "#Keep in mind the nsplits==the number of groups formed"
   ]
  },
  {
   "cell_type": "code",
   "execution_count": 86,
   "metadata": {},
   "outputs": [
    {
     "name": "stdout",
     "output_type": "stream",
     "text": [
      "All train scores:  [0.9931506849315068, 0.9942528735632183]\n",
      "All test scores:  [0.8333333333333334, 0.8356164383561644]\n",
      "\n",
      "Minimum train score obtained:  0.9932\n",
      "Minimum test score obtained:  0.8333\n",
      "\n",
      "Maximum train score obtained:  0.9943\n",
      "Maximum test score obtained:  0.8356\n",
      "\n",
      "Average train score obtained:  0.9937\n",
      "Average test score obtained:  0.8345\n"
     ]
    }
   ],
   "source": [
    "groups = X_train['Research_1'].tolist()\n",
    "groupfolds = GroupKFold(n_splits=2)\n",
    "scores = []\n",
    "scores_train =[]\n",
    "\n",
    "\n",
    "for train_index, test_index in groupfolds.split(X_train,y_train,groups):\n",
    "    X_train_k, X_test_k, y_train_k, y_test_k = X_train.iloc[train_index], X_train.iloc[test_index], \\\n",
    "                                               y_train.iloc[train_index], y_train.iloc[test_index]\n",
    "   \n",
    "    \n",
    "    rf_start.fit(X_train_k, y_train_k)          # fit the model\n",
    "    scores_train.append(rf_start.score(X_train_k, y_train_k))\n",
    "    scores.append(rf_start.score(X_test_k, y_test_k))\n",
    "    \n",
    "# print all scores\n",
    "print('All train scores: ', scores_train)\n",
    "print('All test scores: ', scores)\n",
    "print(\"\\nMinimum train score obtained: \", round(min(scores_train), 4))\n",
    "print(\"Minimum test score obtained: \", round(min(scores), 4))\n",
    "\n",
    "\n",
    "print(\"\\nMaximum train score obtained: \", round(max(scores_train), 4))\n",
    "print(\"Maximum test score obtained: \", round(max(scores), 4))\n",
    "\n",
    "\n",
    "print(\"\\nAverage train score obtained: \", round(np.mean(scores_train), 4))\n",
    "print(\"Average test score obtained: \", round(np.mean(scores), 4))"
   ]
  },
  {
   "cell_type": "code",
   "execution_count": 87,
   "metadata": {},
   "outputs": [],
   "source": [
    "#Does not perform very well in this case there are only 2 groups in research."
   ]
  },
  {
   "cell_type": "markdown",
   "metadata": {},
   "source": [
    "### Grouped K-Fold - Leave One Group Out¶"
   ]
  },
  {
   "cell_type": "markdown",
   "metadata": {},
   "source": [
    "In each iteration the model is trained with samples of all groups but one. \n",
    "Suppose in some case example of the months as groups, 12 iterations are performed.\n",
    "\n",
    "In our case we are again using Research and since there are only 2 groups , it should perform same as above case"
   ]
  },
  {
   "cell_type": "code",
   "execution_count": 88,
   "metadata": {},
   "outputs": [
    {
     "name": "stdout",
     "output_type": "stream",
     "text": [
      "All train scores:  [0.9931506849315068, 0.9942528735632183, 0.9942528735632183, 0.9931506849315068]\n",
      "All test scores:  [0.8333333333333334, 0.8356164383561644, 0.8356164383561644, 0.8333333333333334]\n",
      "\n",
      "Minimum train score obtained:  0.9932\n",
      "Minimum test score obtained:  0.8333\n",
      "\n",
      "Maximum train score obtained:  0.9943\n",
      "Maximum test score obtained:  0.8356\n",
      "\n",
      "Average train score obtained:  0.9937\n",
      "Average test score obtained:  0.8345\n"
     ]
    }
   ],
   "source": [
    "groups = X_train['Research_1'].tolist()\n",
    "n_folds = X_train['Research_1'].nunique()\n",
    "logroupfolds = LeaveOneGroupOut()\n",
    "for train_index, test_index in logroupfolds.split(X_train,y_train,groups):\n",
    "    X_train_k, X_test_k, y_train_k, y_test_k = X_train.iloc[train_index], X_train.iloc[test_index], \\\n",
    "                                               y_train.iloc[train_index], y_train.iloc[test_index]\n",
    "   \n",
    "    \n",
    "    rf_start.fit(X_train_k, y_train_k)          # fit the model\n",
    "    scores_train.append(rf_start.score(X_train_k, y_train_k))\n",
    "    scores.append(rf_start.score(X_test_k, y_test_k))\n",
    "    \n",
    "# print all scores\n",
    "print('All train scores: ', scores_train)\n",
    "print('All test scores: ', scores)\n",
    "print(\"\\nMinimum train score obtained: \", round(min(scores_train), 4))\n",
    "print(\"Minimum test score obtained: \", round(min(scores), 4))\n",
    "\n",
    "\n",
    "print(\"\\nMaximum train score obtained: \", round(max(scores_train), 4))\n",
    "print(\"Maximum test score obtained: \", round(max(scores), 4))\n",
    "\n",
    "\n",
    "print(\"\\nAverage train score obtained: \", round(np.mean(scores_train), 4))\n",
    "print(\"Average test score obtained: \", round(np.mean(scores), 4))"
   ]
  },
  {
   "cell_type": "markdown",
   "metadata": {},
   "source": [
    "## Conclusion"
   ]
  },
  {
   "cell_type": "markdown",
   "metadata": {},
   "source": [
    "Hence we can observe that for this particular data that we chosen kfold cross validation with cv=10 gives us the best fit of the model and the model is not overfit.\n",
    "That we get a  well learnt-generalized model"
   ]
  },
  {
   "cell_type": "code",
   "execution_count": null,
   "metadata": {},
   "outputs": [],
   "source": []
  }
 ],
 "metadata": {
  "kernelspec": {
   "display_name": "Python 3",
   "language": "python",
   "name": "python3"
  },
  "language_info": {
   "codemirror_mode": {
    "name": "ipython",
    "version": 3
   },
   "file_extension": ".py",
   "mimetype": "text/x-python",
   "name": "python",
   "nbconvert_exporter": "python",
   "pygments_lexer": "ipython3",
   "version": "3.7.4"
  }
 },
 "nbformat": 4,
 "nbformat_minor": 2
}
